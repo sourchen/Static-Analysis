{
  "nbformat": 4,
  "nbformat_minor": 0,
  "metadata": {
    "colab": {
      "name": "「StaticAnalysis_40variants.ipynb」的副本",
      "provenance": [],
      "collapsed_sections": []
    },
    "kernelspec": {
      "name": "python3",
      "display_name": "Python 3"
    }
  },
  "cells": [
    {
      "cell_type": "markdown",
      "metadata": {
        "id": "2H9wQu_0NlEu"
      },
      "source": [
        "# Static Analysis\n",
        " \n",
        "**Data Description**\n",
        "\n",
        "1. Since I cannot receive real malware, I use the pefile analysis result saved in a dictionary (by calling **`pefile_dump()`** ) .\n",
        "2. This dataset is composed of 40 malware samples, which are actually from 4 families. However, there is no class label of each item, so I can not perform classification and clustering might be a feasible solution.\n",
        "\n",
        ">Therefore, in this project I try to cluster these 40 malwares into 4 groups.\n",
        "<br>\n",
        "\n",
        "\n",
        "***What I did in this project...***\n",
        "<br>\n",
        "In this project, I extract some useful information from PE file by writing parsers. \n",
        "Next, I do data preprocessing by one hot encoding, label encoding to make data more useful, and do PCA to reduce dimension. \n",
        "At last, I cluster malwares by using k-means to cluster 4 malware families."
      ]
    },
    {
      "cell_type": "markdown",
      "metadata": {
        "id": "Up2lU-B8RRfE"
      },
      "source": [
        "### Download data\n"
      ]
    },
    {
      "cell_type": "code",
      "metadata": {
        "id": "KaUYwIFuMPmc"
      },
      "source": [
        "# Here is the dump dictionary.\n",
        "!wget https://drive.google.com/uc?id=1BTr1IDPhRF9WnFjXFwJWiqJ31qa-EWL9 -O pef_dumpdict_40.pickle"
      ],
      "execution_count": null,
      "outputs": []
    },
    {
      "cell_type": "code",
      "metadata": {
        "id": "VNGAPlU8MnJP",
        "colab": {
          "base_uri": "https://localhost:8080/"
        },
        "outputId": "ca9dec50-d10d-4b4a-c5e0-7bb8ebc10d88"
      },
      "source": [
        "# The size should be 414677 bytes.\n",
        "!ls -al"
      ],
      "execution_count": null,
      "outputs": [
        {
          "output_type": "stream",
          "text": [
            "total 424\n",
            "drwxr-xr-x 1 root root   4096 Apr 23 17:31 .\n",
            "drwxr-xr-x 1 root root   4096 Apr 23 17:23 ..\n",
            "drwxr-xr-x 4 root root   4096 Apr 21 13:38 .config\n",
            "-rw-r--r-- 1 root root 414677 Apr 23 17:31 pef_dumpdict_40.pickle\n",
            "drwxr-xr-x 1 root root   4096 Apr 21 13:39 sample_data\n"
          ],
          "name": "stdout"
        }
      ]
    },
    {
      "cell_type": "code",
      "metadata": {
        "id": "MovFVjB5M-RR"
      },
      "source": [
        "# It is stored in a pickle file.\n",
        "# You can retrive it by using the following code.\n",
        "\n",
        "import pickle\n",
        "import os \n",
        "\n",
        "with open(\"/content/pef_dumpdict_40.pickle\", 'rb') as fd:\n",
        "  pef_dumpdicts = pickle.load(fd)"
      ],
      "execution_count": null,
      "outputs": []
    },
    {
      "cell_type": "markdown",
      "metadata": {
        "id": "sqW1y5EdRVyR"
      },
      "source": [
        "### Analyze the downloaded data"
      ]
    },
    {
      "cell_type": "code",
      "metadata": {
        "id": "V9z5APWLRaKu",
        "colab": {
          "base_uri": "https://localhost:8080/"
        },
        "outputId": "c095cc44-9d39-432b-e124-b5e5bb51a57a"
      },
      "source": [
        "# Now pef_dumpdict is what we want you to analyze.\n",
        "# It combines 40 malware's pefile.dump_dict().\n",
        "\n",
        "print(len(pef_dumpdicts))"
      ],
      "execution_count": null,
      "outputs": [
        {
          "output_type": "stream",
          "text": [
            "40\n"
          ],
          "name": "stdout"
        }
      ]
    },
    {
      "cell_type": "code",
      "metadata": {
        "id": "UOOJPk9URpTI",
        "colab": {
          "base_uri": "https://localhost:8080/"
        },
        "outputId": "f0c906e1-9efc-4084-8307-25d3ca7c376b"
      },
      "source": [
        "# The id of the 40 malwares are\n",
        "for key in pef_dumpdicts.keys():\n",
        "  print(key)"
      ],
      "execution_count": null,
      "outputs": [
        {
          "output_type": "stream",
          "text": [
            "07edeebc14b053fffdfb4dcc08959360\n",
            "0cfab9961285ab6e04f449c6d09cec37\n",
            "2c1e90810ca30865cbf4440118c4aa0f\n",
            "412c8d4d6afc88391e6dad508106681a\n",
            "656f628856a62f1dc14748bff4cee2e5\n",
            "8595c554539a172534c95222260650e5\n",
            "88b666fd4ef1c21f4051ad3f859ee5bd\n",
            "8aa66c2a430c3545c542e8419de13385\n",
            "e776d8d8d187bdb68f41dc9ccfc86444\n",
            "ed1304342c5794cb0a55840253793b45\n",
            "2650e58a609438ba18706f539b49a6af\n",
            "2a5932a800123709eff21dbd2310e090\n",
            "4271ba51876b1e931dd55b2ccff25789\n",
            "52cae62ada8b02adae128e35686cbc16\n",
            "774b71a232568ca7ea09c0a26b82f8e5\n",
            "7b57508defc0934c69b98544b4bac185\n",
            "8081b6b58cc3372ad62a5d8b6ce09c0b\n",
            "8e6d8d46e4a7482b9475e6c5b211dc61\n",
            "b4e89348aa9b635b8edce746f8231303\n",
            "e0ad769d1bd2b9b6444796f99b52a43f\n",
            "0c6e68a34804df907df26d7139b1f052\n",
            "0e751a5b6db31895c283ddd9757477de\n",
            "0f74a58af435599ec94eff2b72d5e55e\n",
            "1d0ce31c6d7129a74e2921e8d161c752\n",
            "2cceeae738cae520544e9d9fda9ca30e\n",
            "2ea5285f04bc9a0b3008165779a382ec\n",
            "2f45c7132f623cd7caea6d7965d53a0f\n",
            "3b569cd1c63b83446420dd798a8622b7\n",
            "3f07e530430d1d450bfeaf0a595109b1\n",
            "4aa9b2104ac7c7602c4258a0f7ce2b44\n",
            "17af47cdfd7c327ebfc2ab21221fee03\n",
            "1f6bcbaaefaec970de211d47c7c57854\n",
            "573054f5a9b74edc86ede736876bcb57\n",
            "60c4a8055b75c25d60932d1e6c34e05a\n",
            "6a3943016197db960f00e27f1b154093\n",
            "6db56b93657419ea946b2db489d88908\n",
            "91e8fe3c2623eaea8ec8027564a857d5\n",
            "bc28e599e69d23edcb60b0dd5b428f6f\n",
            "d32c82e4632a1e6656b05678ae5560fd\n",
            "ec34196b53dd111997b88eaa2920b7f4\n"
          ],
          "name": "stdout"
        }
      ]
    },
    {
      "cell_type": "code",
      "metadata": {
        "id": "tOT-d-X_R2G6",
        "colab": {
          "base_uri": "https://localhost:8080/"
        },
        "outputId": "1fd9895d-4b5f-413f-eebd-37ca10ce94a1"
      },
      "source": [
        "# so the fist dump_dict is\n",
        "first_dict = pef_dumpdicts['07edeebc14b053fffdfb4dcc08959360']\n",
        "\n",
        "# you can now access the data you want\n",
        "# for example print all sections and their info.\n",
        "for sec in first_dict['PE Sections']:\n",
        "  print(sec)\n",
        "\n",
        "# or like this (as what we see in pefile demonstration)\n",
        "print(\"\\nName, Misc_VirtualSize, SizeOfRawData, Entropy, MD5\")\n",
        "for sec in first_dict['PE Sections']:\n",
        "  print(sec['Name']['Value'], sec['Misc_VirtualSize']['Value'], sec['SizeOfRawData']['Value'], sec['Entropy'], sec['MD5'])"
      ],
      "execution_count": null,
      "outputs": [
        {
          "output_type": "stream",
          "text": [
            "{'Structure': 'IMAGE_SECTION_HEADER', 'Name': {'FileOffset': 464, 'Offset': 0, 'Value': 'UPX0\\\\x00\\\\x00\\\\x00\\\\x00'}, 'Misc': {'FileOffset': 472, 'Offset': 8, 'Value': 20480}, 'Misc_PhysicalAddress': {'FileOffset': 472, 'Offset': 8, 'Value': 20480}, 'Misc_VirtualSize': {'FileOffset': 472, 'Offset': 8, 'Value': 20480}, 'VirtualAddress': {'FileOffset': 476, 'Offset': 12, 'Value': 4096}, 'SizeOfRawData': {'FileOffset': 480, 'Offset': 16, 'Value': 0}, 'PointerToRawData': {'FileOffset': 484, 'Offset': 20, 'Value': 1024}, 'PointerToRelocations': {'FileOffset': 488, 'Offset': 24, 'Value': 0}, 'PointerToLinenumbers': {'FileOffset': 492, 'Offset': 28, 'Value': 0}, 'NumberOfRelocations': {'FileOffset': 496, 'Offset': 32, 'Value': 0}, 'NumberOfLinenumbers': {'FileOffset': 498, 'Offset': 34, 'Value': 0}, 'Characteristics': {'FileOffset': 500, 'Offset': 36, 'Value': 3758096512}, 'Flags': ['IMAGE_SCN_CNT_UNINITIALIZED_DATA', 'IMAGE_SCN_MEM_EXECUTE', 'IMAGE_SCN_MEM_READ', 'IMAGE_SCN_MEM_WRITE'], 'Entropy': 0.0, 'MD5': 'd41d8cd98f00b204e9800998ecf8427e', 'SHA1': 'da39a3ee5e6b4b0d3255bfef95601890afd80709', 'SHA256': 'e3b0c44298fc1c149afbf4c8996fb92427ae41e4649b934ca495991b7852b855', 'SHA512': 'cf83e1357eefb8bdf1542850d66d8007d620e4050b5715dc83f4a921d36ce9ce47d0d13c5d85f2b0ff8318d2877eec2f63b931bd47417a81a538327af927da3e'}\n",
            "{'Structure': 'IMAGE_SECTION_HEADER', 'Name': {'FileOffset': 504, 'Offset': 0, 'Value': 'UPX1\\\\x00\\\\x00\\\\x00\\\\x00'}, 'Misc': {'FileOffset': 512, 'Offset': 8, 'Value': 8192}, 'Misc_PhysicalAddress': {'FileOffset': 512, 'Offset': 8, 'Value': 8192}, 'Misc_VirtualSize': {'FileOffset': 512, 'Offset': 8, 'Value': 8192}, 'VirtualAddress': {'FileOffset': 516, 'Offset': 12, 'Value': 24576}, 'SizeOfRawData': {'FileOffset': 520, 'Offset': 16, 'Value': 7680}, 'PointerToRawData': {'FileOffset': 524, 'Offset': 20, 'Value': 1024}, 'PointerToRelocations': {'FileOffset': 528, 'Offset': 24, 'Value': 0}, 'PointerToLinenumbers': {'FileOffset': 532, 'Offset': 28, 'Value': 0}, 'NumberOfRelocations': {'FileOffset': 536, 'Offset': 32, 'Value': 0}, 'NumberOfLinenumbers': {'FileOffset': 538, 'Offset': 34, 'Value': 0}, 'Characteristics': {'FileOffset': 540, 'Offset': 36, 'Value': 3758096480}, 'Flags': ['IMAGE_SCN_CNT_CODE', 'IMAGE_SCN_CNT_INITIALIZED_DATA', 'IMAGE_SCN_MEM_EXECUTE', 'IMAGE_SCN_MEM_READ', 'IMAGE_SCN_MEM_WRITE'], 'Entropy': 7.902853096944673, 'MD5': '99b34761df700a7b4dbdcb53733675af', 'SHA1': '31ac1e3b861f35375e93afcefbf5ee8f834ec07c', 'SHA256': 'dfc82f58da6e8c5a88910a50aaf2b7f9fbb3dcaa1b07379ea809438efdc1cc9d', 'SHA512': '308a94d7ff014068b8701828979859c6a56363051b5f74a049bbf73d2e6d663c0ab511a4fe3a62444e16d9f69524c8df4d1968f6d18cfa5367ac4bd7187c6956'}\n",
            "{'Structure': 'IMAGE_SECTION_HEADER', 'Name': {'FileOffset': 544, 'Offset': 0, 'Value': 'UPX2\\\\x00\\\\x00\\\\x00\\\\x00'}, 'Misc': {'FileOffset': 552, 'Offset': 8, 'Value': 8192}, 'Misc_PhysicalAddress': {'FileOffset': 552, 'Offset': 8, 'Value': 8192}, 'Misc_VirtualSize': {'FileOffset': 552, 'Offset': 8, 'Value': 8192}, 'VirtualAddress': {'FileOffset': 556, 'Offset': 12, 'Value': 32768}, 'SizeOfRawData': {'FileOffset': 560, 'Offset': 16, 'Value': 1024}, 'PointerToRawData': {'FileOffset': 564, 'Offset': 20, 'Value': 8704}, 'PointerToRelocations': {'FileOffset': 568, 'Offset': 24, 'Value': 0}, 'PointerToLinenumbers': {'FileOffset': 572, 'Offset': 28, 'Value': 0}, 'NumberOfRelocations': {'FileOffset': 576, 'Offset': 32, 'Value': 0}, 'NumberOfLinenumbers': {'FileOffset': 578, 'Offset': 34, 'Value': 0}, 'Characteristics': {'FileOffset': 580, 'Offset': 36, 'Value': 3758096480}, 'Flags': ['IMAGE_SCN_CNT_CODE', 'IMAGE_SCN_CNT_INITIALIZED_DATA', 'IMAGE_SCN_MEM_EXECUTE', 'IMAGE_SCN_MEM_READ', 'IMAGE_SCN_MEM_WRITE'], 'Entropy': 2.6755684369499013, 'MD5': '1139f90a792caa1154e9908f13fe19ef', 'SHA1': '494983fe50ae27c98f7edfda300e73833e2f9fc6', 'SHA256': '132782397e571aa500143cd152e28c7b4927ac23545f5cfc15f2b864fd7850c0', 'SHA512': '28c524834ee6b1de70067ba4664768834174694107646df40bd9283b5fbd742e127908d4434bd9a80886030f687efad19fd4963165b3b04b47e265cbdbfa3b3a'}\n",
            "\n",
            "Name, Misc_VirtualSize, SizeOfRawData, Entropy, MD5\n",
            "UPX0\\x00\\x00\\x00\\x00 20480 0 0.0 d41d8cd98f00b204e9800998ecf8427e\n",
            "UPX1\\x00\\x00\\x00\\x00 8192 7680 7.902853096944673 99b34761df700a7b4dbdcb53733675af\n",
            "UPX2\\x00\\x00\\x00\\x00 8192 1024 2.6755684369499013 1139f90a792caa1154e9908f13fe19ef\n"
          ],
          "name": "stdout"
        }
      ]
    },
    {
      "cell_type": "markdown",
      "metadata": {
        "id": "ET51zJ2MkLKo"
      },
      "source": [
        "# Your solution\n",
        "1. I use these information as features to cluster.\n",
        "\n",
        "Information | accuracy | \n",
        "----------|:-----:|\n",
        "FILE_HEADER | TimeDateStamp |\n",
        "FILE_HEADER |  NumberOfSections |\n",
        "PE Sections | MD5 |\n",
        "PE Sections         | Flags |\n",
        "PE Sections         | SizeOfRawData |\n",
        "PE Sections         | Misc |\n",
        "PE Sections         | Name |\n",
        "OPTIONAL_HEADER | CheckSum |\n",
        "\n",
        "2. Before clustering, I preprocess the data by **one hot encoding** and **label encoding**, and reduce dimension by **PCA**.\n",
        "4. I use **k-means** to cluster samples into 4 groups. "
      ]
    },
    {
      "cell_type": "markdown",
      "metadata": {
        "id": "4ZoZjjciFpRr"
      },
      "source": [
        "## Extract some information"
      ]
    },
    {
      "cell_type": "code",
      "metadata": {
        "colab": {
          "base_uri": "https://localhost:8080/"
        },
        "id": "PlV3VfswBRIH",
        "outputId": "3efd0775-dc05-4756-e0a3-a785e42ef158"
      },
      "source": [
        "for key in first_dict.keys():\n",
        "  print(key)"
      ],
      "execution_count": null,
      "outputs": [
        {
          "output_type": "stream",
          "text": [
            "Parsing Warnings\n",
            "DOS_HEADER\n",
            "NT_HEADERS\n",
            "FILE_HEADER\n",
            "Flags\n",
            "OPTIONAL_HEADER\n",
            "DllCharacteristics\n",
            "PE Sections\n",
            "Directories\n",
            "Imported symbols\n"
          ],
          "name": "stdout"
        }
      ]
    },
    {
      "cell_type": "markdown",
      "metadata": {
        "id": "7wFGav1Oc9ku"
      },
      "source": [
        "### FILE_HEADER / TimeDateStamp"
      ]
    },
    {
      "cell_type": "code",
      "metadata": {
        "id": "kavufIcd3VCn"
      },
      "source": [
        "time_list = []\n",
        "\n",
        "for key in pef_dumpdicts.keys():\n",
        "  pef_dump_dict = pef_dumpdicts[key]\n",
        "  time = pef_dump_dict['FILE_HEADER']['TimeDateStamp']['Value']\n",
        "  record_list = []\n",
        "  record_list.append(time) \n",
        "  time_list.append(record_list)"
      ],
      "execution_count": null,
      "outputs": []
    },
    {
      "cell_type": "markdown",
      "metadata": {
        "id": "GZNSAKFNQoHg"
      },
      "source": [
        "### FILE_HEADER / NumberOfSections"
      ]
    },
    {
      "cell_type": "code",
      "metadata": {
        "id": "Y_4cFL1D7W-K"
      },
      "source": [
        "sec_list = []\n",
        "\n",
        "for key in pef_dumpdicts.keys():\n",
        "  pef_dump_dict = pef_dumpdicts[key]\n",
        "  sec = pef_dump_dict['FILE_HEADER']['NumberOfSections']['Value']\n",
        "  record_list = []\n",
        "  record_list.append(sec) \n",
        "  sec_list.append(record_list)"
      ],
      "execution_count": null,
      "outputs": []
    },
    {
      "cell_type": "markdown",
      "metadata": {
        "id": "CGyaFlcbF2O7"
      },
      "source": [
        "### PE Sections / MD5, SHA1, SHA256, SHA512"
      ]
    },
    {
      "cell_type": "code",
      "metadata": {
        "id": "QSDXksHGjBFx"
      },
      "source": [
        "md5_list = []\n",
        "\n",
        "for key in pef_dumpdicts.keys():\n",
        "  pef_dump_dict = pef_dumpdicts[key]\n",
        "  record_list = []\n",
        "  for records in pef_dump_dict['PE Sections']:\n",
        "    MD5 = records['MD5']\n",
        "    record_list.append(MD5) \n",
        "  md5_list.append(record_list)"
      ],
      "execution_count": null,
      "outputs": []
    },
    {
      "cell_type": "markdown",
      "metadata": {
        "id": "e8QU9wNGlUTc"
      },
      "source": [
        "### PE Sections / Flags"
      ]
    },
    {
      "cell_type": "code",
      "metadata": {
        "id": "w_Dfs04YAVsS"
      },
      "source": [
        "flag_list = []\n",
        "\n",
        "for key in pef_dumpdicts.keys():\n",
        "  pef_dump_dict = pef_dumpdicts[key]\n",
        "  record_list = []\n",
        "  for records in pef_dump_dict['PE Sections']:\n",
        "    for i in records['Flags']:\n",
        "      record_list.append(i) \n",
        "  flag_list.append(record_list)"
      ],
      "execution_count": null,
      "outputs": []
    },
    {
      "cell_type": "markdown",
      "metadata": {
        "id": "t8bVfLDkn_Eb"
      },
      "source": [
        "### PE Sections / SizeOfRawData"
      ]
    },
    {
      "cell_type": "code",
      "metadata": {
        "id": "xF4OuAZXIJ-z"
      },
      "source": [
        "rawdata_list = []\n",
        "\n",
        "for key in pef_dumpdicts.keys():\n",
        "  pef_dump_dict = pef_dumpdicts[key]\n",
        "  record_list = []\n",
        "  for records in pef_dump_dict['PE Sections']:\n",
        "    raw_data = records['SizeOfRawData']['Value']\n",
        "    if raw_data != 0 and raw_data != 7680:\n",
        "      record_list.append(raw_data) \n",
        "  rawdata_list.append(record_list)"
      ],
      "execution_count": null,
      "outputs": []
    },
    {
      "cell_type": "markdown",
      "metadata": {
        "id": "s_LlMv9floIm"
      },
      "source": [
        "### PE Sections / Misc"
      ]
    },
    {
      "cell_type": "code",
      "metadata": {
        "id": "b88tc4eoWMEt"
      },
      "source": [
        "misc_list = []\n",
        "\n",
        "for key in pef_dumpdicts.keys():\n",
        "  pef_dump_dict = pef_dumpdicts[key]\n",
        "  record_list = []\n",
        "  for records in pef_dump_dict['PE Sections']:\n",
        "    misc = records['Misc']['Value']\n",
        "    record_list.append(misc)\n",
        "    c =  record_list[2:]\n",
        "  misc_list.append(c)"
      ],
      "execution_count": null,
      "outputs": []
    },
    {
      "cell_type": "markdown",
      "metadata": {
        "id": "FrIFgeKr_IBO"
      },
      "source": [
        "### PE Sections / Name"
      ]
    },
    {
      "cell_type": "code",
      "metadata": {
        "id": "TJJuveZ6OBFa"
      },
      "source": [
        "name_list = []\n",
        "\n",
        "for key in pef_dumpdicts.keys():\n",
        "  pef_dump_dict = pef_dumpdicts[key]\n",
        "  record_list = []\n",
        "  for records in pef_dump_dict['PE Sections']:\n",
        "    name = records['Name']['Value']\n",
        "    if name != 'UPX0\\\\x00\\\\x00\\\\x00\\\\x00' and name != 'UPX1\\\\x00\\\\x00\\\\x00\\\\x00' and name != 'UPX2\\\\x00\\\\x00\\\\x00\\\\x00':\n",
        "      record_list.append(name) \n",
        "  name_list.append(record_list)"
      ],
      "execution_count": null,
      "outputs": []
    },
    {
      "cell_type": "markdown",
      "metadata": {
        "id": "EckWSe9sKSyZ"
      },
      "source": [
        "### OPTIONAL_HEADER / CheckSum"
      ]
    },
    {
      "cell_type": "code",
      "metadata": {
        "id": "acYNj4fF-13M"
      },
      "source": [
        "checksum_list = []\n",
        "\n",
        "for key in pef_dumpdicts.keys():\n",
        "  pef_dump_dict = pef_dumpdicts[key]\n",
        "  record_list = []\n",
        "  checksum = pef_dump_dict['OPTIONAL_HEADER']['CheckSum']['Value']\n",
        "  record_list.append(checksum)\n",
        "  checksum_list.append(record_list)"
      ],
      "execution_count": null,
      "outputs": []
    },
    {
      "cell_type": "markdown",
      "metadata": {
        "id": "f72KSTC0a_n-"
      },
      "source": [
        "\n",
        "\n",
        "---\n",
        "\n"
      ]
    },
    {
      "cell_type": "markdown",
      "metadata": {
        "id": "c1ysBNb9R4y7"
      },
      "source": [
        "## Data Preprocessing"
      ]
    },
    {
      "cell_type": "code",
      "metadata": {
        "id": "lutjJlLKR9GS"
      },
      "source": [
        "import pandas as pd\n",
        "import numpy as np \n",
        "\n",
        "key_list = []\n",
        "\n",
        "for key in pef_dumpdicts.keys():\n",
        "  key_list.append(key)"
      ],
      "execution_count": null,
      "outputs": []
    },
    {
      "cell_type": "markdown",
      "metadata": {
        "id": "F7a-pmM95f4r"
      },
      "source": [
        "### one hot encoding"
      ]
    },
    {
      "cell_type": "code",
      "metadata": {
        "id": "TBUfLXb-NwxC"
      },
      "source": [
        "from nltk.util import ngrams\n",
        "twogram_list = []\n",
        "\n",
        "for li in md5_list:\n",
        "  two_gram = list(ngrams(li, 2))\n",
        "  twogram_list.append(two_gram)"
      ],
      "execution_count": null,
      "outputs": []
    },
    {
      "cell_type": "code",
      "metadata": {
        "colab": {
          "base_uri": "https://localhost:8080/"
        },
        "id": "scxaOH-xILGW",
        "outputId": "edff18fb-dc84-4863-a64f-fd76535bdcb2"
      },
      "source": [
        "from sklearn.preprocessing import MultiLabelBinarizer\n",
        "\n",
        "misc_array = np.array(misc_list)\n",
        "df_misc = pd.DataFrame(misc_array, columns=['md5'], index=key_list)\n",
        "\n",
        "# one hot encoding\n",
        "mlb = MultiLabelBinarizer(sparse_output=True)\n",
        "df_misc = df_misc.join(\n",
        "    pd.DataFrame.sparse.from_spmatrix(\n",
        "        mlb.fit_transform(df_misc.pop('md5')),\n",
        "        index=df_misc.index,\n",
        "        columns=mlb.classes_))"
      ],
      "execution_count": null,
      "outputs": [
        {
          "output_type": "stream",
          "text": [
            "/usr/local/lib/python3.7/dist-packages/ipykernel_launcher.py:3: VisibleDeprecationWarning: Creating an ndarray from ragged nested sequences (which is a list-or-tuple of lists-or-tuples-or ndarrays with different lengths or shapes) is deprecated. If you meant to do this, you must specify 'dtype=object' when creating the ndarray\n",
            "  This is separate from the ipykernel package so we can avoid doing imports until\n"
          ],
          "name": "stderr"
        }
      ]
    },
    {
      "cell_type": "code",
      "metadata": {
        "id": "9XteMCC3XLpQ",
        "colab": {
          "base_uri": "https://localhost:8080/"
        },
        "outputId": "d35d83c2-1665-4b6d-8d8c-f838abfdd377"
      },
      "source": [
        "md5_array = np.array(twogram_list)\n",
        "df_md5 = pd.DataFrame(md5_array, columns=['md5'], index=key_list) \n",
        "\n",
        "# one hot encoding\n",
        "mlb = MultiLabelBinarizer(sparse_output=True)\n",
        "df_md5 = df_md5.join(\n",
        "    pd.DataFrame.sparse.from_spmatrix(\n",
        "        mlb.fit_transform(df_md5.pop('md5')), \n",
        "        index=df_md5.index,\n",
        "        columns=mlb.classes_))"
      ],
      "execution_count": null,
      "outputs": [
        {
          "output_type": "stream",
          "text": [
            "/usr/local/lib/python3.7/dist-packages/ipykernel_launcher.py:1: VisibleDeprecationWarning: Creating an ndarray from ragged nested sequences (which is a list-or-tuple of lists-or-tuples-or ndarrays with different lengths or shapes) is deprecated. If you meant to do this, you must specify 'dtype=object' when creating the ndarray\n",
            "  \"\"\"Entry point for launching an IPython kernel.\n"
          ],
          "name": "stderr"
        }
      ]
    },
    {
      "cell_type": "code",
      "metadata": {
        "id": "RPq9LT65L1M-",
        "colab": {
          "base_uri": "https://localhost:8080/"
        },
        "outputId": "4b167d53-47ec-4ea7-c211-fbb0decc1ed8"
      },
      "source": [
        "rawdata_array = np.array(rawdata_list)\n",
        "df_rawdata = pd.DataFrame(rawdata_array, columns=['raw data'], index=key_list)\n",
        "\n",
        "# one hot encoding\n",
        "mlb = MultiLabelBinarizer(sparse_output=True)\n",
        "df_rawdata = df_rawdata.join(\n",
        "    pd.DataFrame.sparse.from_spmatrix(\n",
        "        mlb.fit_transform(df_rawdata.pop('raw data')),\n",
        "        index=df_rawdata.index,\n",
        "        columns=mlb.classes_))"
      ],
      "execution_count": null,
      "outputs": [
        {
          "output_type": "stream",
          "text": [
            "/usr/local/lib/python3.7/dist-packages/ipykernel_launcher.py:1: VisibleDeprecationWarning: Creating an ndarray from ragged nested sequences (which is a list-or-tuple of lists-or-tuples-or ndarrays with different lengths or shapes) is deprecated. If you meant to do this, you must specify 'dtype=object' when creating the ndarray\n",
            "  \"\"\"Entry point for launching an IPython kernel.\n"
          ],
          "name": "stderr"
        }
      ]
    },
    {
      "cell_type": "code",
      "metadata": {
        "id": "qNNTGuchQEWe",
        "colab": {
          "base_uri": "https://localhost:8080/"
        },
        "outputId": "1d9ee457-094a-4c9b-bbb7-7af9673837d6"
      },
      "source": [
        "name_array = np.array(name_list)\n",
        "df_name = pd.DataFrame(name_array, columns=['name'], index=key_list)\n",
        "\n",
        "# one hot encoding\n",
        "mlb = MultiLabelBinarizer(sparse_output=True)\n",
        "df_name = df_name.join(\n",
        "    pd.DataFrame.sparse.from_spmatrix(\n",
        "        mlb.fit_transform(df_name.pop('name')), \n",
        "        index=df_name.index,\n",
        "        columns=mlb.classes_))"
      ],
      "execution_count": null,
      "outputs": [
        {
          "output_type": "stream",
          "text": [
            "/usr/local/lib/python3.7/dist-packages/ipykernel_launcher.py:1: VisibleDeprecationWarning: Creating an ndarray from ragged nested sequences (which is a list-or-tuple of lists-or-tuples-or ndarrays with different lengths or shapes) is deprecated. If you meant to do this, you must specify 'dtype=object' when creating the ndarray\n",
            "  \"\"\"Entry point for launching an IPython kernel.\n"
          ],
          "name": "stderr"
        }
      ]
    },
    {
      "cell_type": "code",
      "metadata": {
        "id": "YOclUGb2GJdb"
      },
      "source": [
        "a = np.array(sec_list)\n",
        "record_list = []\n",
        "\n",
        "for sec in a:\n",
        "  if sec == 3:\n",
        "    record_list.append(0)\n",
        "  elif sec == 4:\n",
        "    record_list.append(1)\n",
        "\n",
        "sec_array = np.array(record_list)\n",
        "\n",
        "df_sec = pd.DataFrame(sec_array, columns=['sec_num'], index=key_list)"
      ],
      "execution_count": null,
      "outputs": []
    },
    {
      "cell_type": "code",
      "metadata": {
        "id": "tZzYOTmnGfI9"
      },
      "source": [
        "a = np.array(checksum_list)\n",
        "record_list = []\n",
        "\n",
        "for checksum in a:\n",
        "  if checksum == 195901:\n",
        "    record_list.append(0)\n",
        "  elif checksum == 0:\n",
        "    record_list.append(1)\n",
        "\n",
        "checksum_array = np.array(record_list)\n",
        "\n",
        "df_checksum = pd.DataFrame(checksum_array, columns=['checksum'], index=key_list)"
      ],
      "execution_count": null,
      "outputs": []
    },
    {
      "cell_type": "markdown",
      "metadata": {
        "id": "RfOiZ7Gb5lQ6"
      },
      "source": [
        "### label encoding"
      ]
    },
    {
      "cell_type": "code",
      "metadata": {
        "id": "u6mOFRUo1pJ6"
      },
      "source": [
        "from sklearn.preprocessing import LabelEncoder\n",
        "time_array = np.array(time_list)\n",
        "\n",
        "df_time = pd.DataFrame(time_array, columns=['timestamp'], index=key_list)\n",
        "\n",
        "# label encoding\n",
        "labelencoder = LabelEncoder() \n",
        "df_time['timestamp'] = labelencoder.fit_transform(df_time['timestamp']) # replace the column with encoded data"
      ],
      "execution_count": null,
      "outputs": []
    },
    {
      "cell_type": "code",
      "metadata": {
        "id": "19j3cZkjD6Ts"
      },
      "source": [
        "flag_1 = ['IMAGE_SCN_CNT_UNINITIALIZED_DATA',\n",
        "          'IMAGE_SCN_MEM_EXECUTE',\n",
        "          'IMAGE_SCN_MEM_READ',\n",
        "          'IMAGE_SCN_MEM_WRITE',\n",
        "          'IMAGE_SCN_CNT_CODE',\n",
        "          'IMAGE_SCN_CNT_INITIALIZED_DATA',\n",
        "          'IMAGE_SCN_MEM_EXECUTE',\n",
        "          'IMAGE_SCN_MEM_READ',\n",
        "          'IMAGE_SCN_MEM_WRITE',\n",
        "          'IMAGE_SCN_CNT_CODE',\n",
        "          'IMAGE_SCN_CNT_INITIALIZED_DATA',\n",
        "          'IMAGE_SCN_MEM_EXECUTE',\n",
        "          'IMAGE_SCN_MEM_READ',\n",
        "          'IMAGE_SCN_MEM_WRITE']\n",
        "          \n",
        "flag_2 = ['IMAGE_SCN_CNT_UNINITIALIZED_DATA',\n",
        "           'IMAGE_SCN_MEM_EXECUTE',\n",
        "           'IMAGE_SCN_MEM_READ',\n",
        "           'IMAGE_SCN_MEM_WRITE',\n",
        "           'IMAGE_SCN_CNT_CODE',\n",
        "           'IMAGE_SCN_CNT_INITIALIZED_DATA',\n",
        "           'IMAGE_SCN_MEM_EXECUTE',\n",
        "           'IMAGE_SCN_MEM_READ',\n",
        "           'IMAGE_SCN_MEM_WRITE',\n",
        "           'IMAGE_SCN_CNT_CODE',\n",
        "           'IMAGE_SCN_CNT_INITIALIZED_DATA',\n",
        "           'IMAGE_SCN_MEM_EXECUTE',\n",
        "           'IMAGE_SCN_MEM_READ',\n",
        "           'IMAGE_SCN_MEM_WRITE',\n",
        "           'IMAGE_SCN_CNT_CODE',\n",
        "           'IMAGE_SCN_MEM_EXECUTE',\n",
        "           'IMAGE_SCN_MEM_READ',\n",
        "           'IMAGE_SCN_MEM_WRITE']\n",
        "\n",
        "flag_3 =['IMAGE_SCN_CNT_UNINITIALIZED_DATA',\n",
        "          'IMAGE_SCN_MEM_EXECUTE',\n",
        "          'IMAGE_SCN_MEM_READ',\n",
        "          'IMAGE_SCN_MEM_WRITE',\n",
        "          'IMAGE_SCN_CNT_CODE',\n",
        "          'IMAGE_SCN_CNT_INITIALIZED_DATA',\n",
        "          'IMAGE_SCN_MEM_EXECUTE',\n",
        "          'IMAGE_SCN_MEM_READ',\n",
        "          'IMAGE_SCN_MEM_WRITE',\n",
        "          'IMAGE_SCN_CNT_CODE',\n",
        "          'IMAGE_SCN_MEM_EXECUTE',\n",
        "          'IMAGE_SCN_MEM_READ',\n",
        "          'IMAGE_SCN_MEM_WRITE']"
      ],
      "execution_count": null,
      "outputs": []
    },
    {
      "cell_type": "code",
      "metadata": {
        "colab": {
          "base_uri": "https://localhost:8080/"
        },
        "id": "6ydoq2zTC2z_",
        "outputId": "8260c70c-3f0e-43f4-9565-30299231b7aa"
      },
      "source": [
        "a = np.array(flag_list)\n",
        "record_list = []\n",
        "\n",
        "for flag in a:\n",
        "  if flag == flag_1:\n",
        "    record_list.append(0)\n",
        "  elif flag == flag_2:\n",
        "    record_list.append(1)\n",
        "  elif flag == flag_3:\n",
        "    record_list.append(2)\n",
        "\n",
        "flag_array = np.array(record_list)\n",
        "\n",
        "df_flag = pd.DataFrame(flag_array, columns=['characteristics'], index=key_list)"
      ],
      "execution_count": null,
      "outputs": [
        {
          "output_type": "stream",
          "text": [
            "/usr/local/lib/python3.7/dist-packages/ipykernel_launcher.py:1: VisibleDeprecationWarning: Creating an ndarray from ragged nested sequences (which is a list-or-tuple of lists-or-tuples-or ndarrays with different lengths or shapes) is deprecated. If you meant to do this, you must specify 'dtype=object' when creating the ndarray\n",
            "  \"\"\"Entry point for launching an IPython kernel.\n"
          ],
          "name": "stderr"
        }
      ]
    },
    {
      "cell_type": "markdown",
      "metadata": {
        "id": "0rEmxhfr90cg"
      },
      "source": [
        "### PCA"
      ]
    },
    {
      "cell_type": "code",
      "metadata": {
        "colab": {
          "base_uri": "https://localhost:8080/"
        },
        "id": "uEQWfwQLdJ6p",
        "outputId": "62741830-a31f-4baf-f5a2-e2dad071f5e5"
      },
      "source": [
        "df = pd.concat([df_time, df_sec], axis=1)\n",
        "df = pd.concat([df, df_md5], axis=1)\n",
        "df = pd.concat([df, df_rawdata], axis=1)\n",
        "df = pd.concat([df, df_name], axis=1)\n",
        "df = pd.concat([df, df_checksum], axis=1)\n",
        "df = pd.concat([df, df_flag], axis=1)\n",
        "df = pd.concat([df, df_misc], axis=1) \n",
        "df.shape"
      ],
      "execution_count": null,
      "outputs": [
        {
          "output_type": "execute_result",
          "data": {
            "text/plain": [
              "(40, 72)"
            ]
          },
          "metadata": {
            "tags": []
          },
          "execution_count": 38
        }
      ]
    },
    {
      "cell_type": "code",
      "metadata": {
        "colab": {
          "base_uri": "https://localhost:8080/",
          "height": 283
        },
        "id": "rI_Bs5wP5ltq",
        "outputId": "f23b0cba-637f-4a7c-effb-ae1bc64a5c28"
      },
      "source": [
        "import matplotlib.pyplot as plt\n",
        "from sklearn.decomposition import PCA\n",
        "\n",
        "X = np.array(df)\n",
        "\n",
        "pca = PCA(n_components=2)\n",
        "X_r = pca.fit(X).transform(X)\n",
        "\n",
        "print('explained variance ratio: %s'\n",
        "      % str(pca.explained_variance_ratio_))\n",
        "\n",
        "plt.figure()\n",
        "plt.scatter(X_r[:, 0], X_r[:, 1], alpha=.2)\n",
        "plt.show()"
      ],
      "execution_count": null,
      "outputs": [
        {
          "output_type": "stream",
          "text": [
            "explained variance ratio: [0.30541573 0.20710407]\n"
          ],
          "name": "stdout"
        },
        {
          "output_type": "display_data",
          "data": {
            "image/png": "[encoded data removed]",
            "text/plain": [
              "<Figure size 432x288 with 1 Axes>"
            ]
          },
          "metadata": {
            "tags": [],
            "needs_background": "light"
          }
        }
      ]
    },
    {
      "cell_type": "code",
      "metadata": {
        "colab": {
          "base_uri": "https://localhost:8080/",
          "height": 296
        },
        "id": "ZyJtIgMm3WGM",
        "outputId": "79bcd478-7d1f-4b82-938e-2edd31d91915"
      },
      "source": [
        "X = np.array(df)\n",
        "\n",
        "pca = PCA(n_components=15)\n",
        "X_r = pca.fit(X).transform(X)\n",
        "\n",
        "def plotData(plt, data):\n",
        "  x = [p[0] for p in data]\n",
        "  y = [p[1] for p in data]\n",
        "  plt.plot(x, y, '-o')\n",
        "\n",
        "plotData(plt, list(zip(range(X.shape[1]), pca.explained_variance_ratio_)))\n",
        "plt.xlabel(\"PC\")\n",
        "plt.ylabel(\"Explained Variance Ratio\")\n",
        "plt.show()\n",
        "pca1_to_8 = np.sum(pca.explained_variance_ratio_[:15])\n",
        "\n",
        "print('15 componets account for about ' + str(pca1_to_8) + ' in total variance.')"
      ],
      "execution_count": null,
      "outputs": [
        {
          "output_type": "display_data",
          "data": {
            "image/png": "[encoded data removed]",
            "text/plain": [
              "<Figure size 432x288 with 1 Axes>"
            ]
          },
          "metadata": {
            "tags": [],
            "needs_background": "light"
          }
        },
        {
          "output_type": "stream",
          "text": [
            "15 componets account for about 0.9216013751915402 in total variance.\n"
          ],
          "name": "stdout"
        }
      ]
    },
    {
      "cell_type": "markdown",
      "metadata": {
        "id": "3Pxa3AFM5LpG"
      },
      "source": [
        "## Unsupervised Learning"
      ]
    },
    {
      "cell_type": "markdown",
      "metadata": {
        "id": "ohONDX625Ylz"
      },
      "source": [
        "### K-means"
      ]
    },
    {
      "cell_type": "code",
      "metadata": {
        "colab": {
          "base_uri": "https://localhost:8080/",
          "height": 283
        },
        "id": "KXkh-FkT1HzI",
        "outputId": "1d070d13-5c2b-4cc9-b435-22e40a4e8645"
      },
      "source": [
        "from sklearn.cluster import KMeans\n",
        "X = np.array(X_r)\n",
        "Kmean = KMeans(n_clusters=4).fit(X)\n",
        "\n",
        "plt.scatter(X[:, 0], X[:, 1],\n",
        "            c=Kmean.labels_, edgecolor='none', alpha=0.5,)"
      ],
      "execution_count": null,
      "outputs": [
        {
          "output_type": "execute_result",
          "data": {
            "text/plain": [
              "<matplotlib.collections.PathCollection at 0x7fbdc0697850>"
            ]
          },
          "metadata": {
            "tags": []
          },
          "execution_count": 41
        },
        {
          "output_type": "display_data",
          "data": {
            "image/png": "[encoded data removed]",
            "text/plain": [
              "<Figure size 432x288 with 1 Axes>"
            ]
          },
          "metadata": {
            "tags": [],
            "needs_background": "light"
          }
        }
      ]
    },
    {
      "cell_type": "markdown",
      "metadata": {
        "id": "gkwYEvSKKAu6"
      },
      "source": [
        "## Result"
      ]
    },
    {
      "cell_type": "code",
      "metadata": {
        "colab": {
          "base_uri": "https://localhost:8080/",
          "height": 1000
        },
        "id": "Dd8JrWOk887N",
        "outputId": "4a0a0add-6502-4900-ddc0-eb3ef3f4b0cf"
      },
      "source": [
        "cluster = pd.DataFrame(Kmean.labels_, index=key_list, columns=['type'])\n",
        "cluster"
      ],
      "execution_count": null,
      "outputs": [
        {
          "output_type": "execute_result",
          "data": {
            "text/html": [
              "<div>\n",
              "<style scoped>\n",
              "    .dataframe tbody tr th:only-of-type {\n",
              "        vertical-align: middle;\n",
              "    }\n",
              "\n",
              "    .dataframe tbody tr th {\n",
              "        vertical-align: top;\n",
              "    }\n",
              "\n",
              "    .dataframe thead th {\n",
              "        text-align: right;\n",
              "    }\n",
              "</style>\n",
              "<table border=\"1\" class=\"dataframe\">\n",
              "  <thead>\n",
              "    <tr style=\"text-align: right;\">\n",
              "      <th></th>\n",
              "      <th>type</th>\n",
              "    </tr>\n",
              "  </thead>\n",
              "  <tbody>\n",
              "    <tr>\n",
              "      <th>07edeebc14b053fffdfb4dcc08959360</th>\n",
              "      <td>3</td>\n",
              "    </tr>\n",
              "    <tr>\n",
              "      <th>0cfab9961285ab6e04f449c6d09cec37</th>\n",
              "      <td>3</td>\n",
              "    </tr>\n",
              "    <tr>\n",
              "      <th>2c1e90810ca30865cbf4440118c4aa0f</th>\n",
              "      <td>3</td>\n",
              "    </tr>\n",
              "    <tr>\n",
              "      <th>412c8d4d6afc88391e6dad508106681a</th>\n",
              "      <td>3</td>\n",
              "    </tr>\n",
              "    <tr>\n",
              "      <th>656f628856a62f1dc14748bff4cee2e5</th>\n",
              "      <td>3</td>\n",
              "    </tr>\n",
              "    <tr>\n",
              "      <th>8595c554539a172534c95222260650e5</th>\n",
              "      <td>3</td>\n",
              "    </tr>\n",
              "    <tr>\n",
              "      <th>88b666fd4ef1c21f4051ad3f859ee5bd</th>\n",
              "      <td>3</td>\n",
              "    </tr>\n",
              "    <tr>\n",
              "      <th>8aa66c2a430c3545c542e8419de13385</th>\n",
              "      <td>3</td>\n",
              "    </tr>\n",
              "    <tr>\n",
              "      <th>e776d8d8d187bdb68f41dc9ccfc86444</th>\n",
              "      <td>3</td>\n",
              "    </tr>\n",
              "    <tr>\n",
              "      <th>ed1304342c5794cb0a55840253793b45</th>\n",
              "      <td>3</td>\n",
              "    </tr>\n",
              "    <tr>\n",
              "      <th>2650e58a609438ba18706f539b49a6af</th>\n",
              "      <td>1</td>\n",
              "    </tr>\n",
              "    <tr>\n",
              "      <th>2a5932a800123709eff21dbd2310e090</th>\n",
              "      <td>1</td>\n",
              "    </tr>\n",
              "    <tr>\n",
              "      <th>4271ba51876b1e931dd55b2ccff25789</th>\n",
              "      <td>1</td>\n",
              "    </tr>\n",
              "    <tr>\n",
              "      <th>52cae62ada8b02adae128e35686cbc16</th>\n",
              "      <td>1</td>\n",
              "    </tr>\n",
              "    <tr>\n",
              "      <th>774b71a232568ca7ea09c0a26b82f8e5</th>\n",
              "      <td>1</td>\n",
              "    </tr>\n",
              "    <tr>\n",
              "      <th>7b57508defc0934c69b98544b4bac185</th>\n",
              "      <td>0</td>\n",
              "    </tr>\n",
              "    <tr>\n",
              "      <th>8081b6b58cc3372ad62a5d8b6ce09c0b</th>\n",
              "      <td>1</td>\n",
              "    </tr>\n",
              "    <tr>\n",
              "      <th>8e6d8d46e4a7482b9475e6c5b211dc61</th>\n",
              "      <td>1</td>\n",
              "    </tr>\n",
              "    <tr>\n",
              "      <th>b4e89348aa9b635b8edce746f8231303</th>\n",
              "      <td>1</td>\n",
              "    </tr>\n",
              "    <tr>\n",
              "      <th>e0ad769d1bd2b9b6444796f99b52a43f</th>\n",
              "      <td>1</td>\n",
              "    </tr>\n",
              "    <tr>\n",
              "      <th>0c6e68a34804df907df26d7139b1f052</th>\n",
              "      <td>0</td>\n",
              "    </tr>\n",
              "    <tr>\n",
              "      <th>0e751a5b6db31895c283ddd9757477de</th>\n",
              "      <td>2</td>\n",
              "    </tr>\n",
              "    <tr>\n",
              "      <th>0f74a58af435599ec94eff2b72d5e55e</th>\n",
              "      <td>2</td>\n",
              "    </tr>\n",
              "    <tr>\n",
              "      <th>1d0ce31c6d7129a74e2921e8d161c752</th>\n",
              "      <td>2</td>\n",
              "    </tr>\n",
              "    <tr>\n",
              "      <th>2cceeae738cae520544e9d9fda9ca30e</th>\n",
              "      <td>2</td>\n",
              "    </tr>\n",
              "    <tr>\n",
              "      <th>2ea5285f04bc9a0b3008165779a382ec</th>\n",
              "      <td>2</td>\n",
              "    </tr>\n",
              "    <tr>\n",
              "      <th>2f45c7132f623cd7caea6d7965d53a0f</th>\n",
              "      <td>2</td>\n",
              "    </tr>\n",
              "    <tr>\n",
              "      <th>3b569cd1c63b83446420dd798a8622b7</th>\n",
              "      <td>2</td>\n",
              "    </tr>\n",
              "    <tr>\n",
              "      <th>3f07e530430d1d450bfeaf0a595109b1</th>\n",
              "      <td>0</td>\n",
              "    </tr>\n",
              "    <tr>\n",
              "      <th>4aa9b2104ac7c7602c4258a0f7ce2b44</th>\n",
              "      <td>2</td>\n",
              "    </tr>\n",
              "    <tr>\n",
              "      <th>17af47cdfd7c327ebfc2ab21221fee03</th>\n",
              "      <td>0</td>\n",
              "    </tr>\n",
              "    <tr>\n",
              "      <th>1f6bcbaaefaec970de211d47c7c57854</th>\n",
              "      <td>0</td>\n",
              "    </tr>\n",
              "    <tr>\n",
              "      <th>573054f5a9b74edc86ede736876bcb57</th>\n",
              "      <td>0</td>\n",
              "    </tr>\n",
              "    <tr>\n",
              "      <th>60c4a8055b75c25d60932d1e6c34e05a</th>\n",
              "      <td>0</td>\n",
              "    </tr>\n",
              "    <tr>\n",
              "      <th>6a3943016197db960f00e27f1b154093</th>\n",
              "      <td>0</td>\n",
              "    </tr>\n",
              "    <tr>\n",
              "      <th>6db56b93657419ea946b2db489d88908</th>\n",
              "      <td>0</td>\n",
              "    </tr>\n",
              "    <tr>\n",
              "      <th>91e8fe3c2623eaea8ec8027564a857d5</th>\n",
              "      <td>0</td>\n",
              "    </tr>\n",
              "    <tr>\n",
              "      <th>bc28e599e69d23edcb60b0dd5b428f6f</th>\n",
              "      <td>0</td>\n",
              "    </tr>\n",
              "    <tr>\n",
              "      <th>d32c82e4632a1e6656b05678ae5560fd</th>\n",
              "      <td>0</td>\n",
              "    </tr>\n",
              "    <tr>\n",
              "      <th>ec34196b53dd111997b88eaa2920b7f4</th>\n",
              "      <td>0</td>\n",
              "    </tr>\n",
              "  </tbody>\n",
              "</table>\n",
              "</div>"
            ],
            "text/plain": [
              "                                  type\n",
              "07edeebc14b053fffdfb4dcc08959360     3\n",
              "0cfab9961285ab6e04f449c6d09cec37     3\n",
              "2c1e90810ca30865cbf4440118c4aa0f     3\n",
              "412c8d4d6afc88391e6dad508106681a     3\n",
              "656f628856a62f1dc14748bff4cee2e5     3\n",
              "8595c554539a172534c95222260650e5     3\n",
              "88b666fd4ef1c21f4051ad3f859ee5bd     3\n",
              "8aa66c2a430c3545c542e8419de13385     3\n",
              "e776d8d8d187bdb68f41dc9ccfc86444     3\n",
              "ed1304342c5794cb0a55840253793b45     3\n",
              "2650e58a609438ba18706f539b49a6af     1\n",
              "2a5932a800123709eff21dbd2310e090     1\n",
              "4271ba51876b1e931dd55b2ccff25789     1\n",
              "52cae62ada8b02adae128e35686cbc16     1\n",
              "774b71a232568ca7ea09c0a26b82f8e5     1\n",
              "7b57508defc0934c69b98544b4bac185     0\n",
              "8081b6b58cc3372ad62a5d8b6ce09c0b     1\n",
              "8e6d8d46e4a7482b9475e6c5b211dc61     1\n",
              "b4e89348aa9b635b8edce746f8231303     1\n",
              "e0ad769d1bd2b9b6444796f99b52a43f     1\n",
              "0c6e68a34804df907df26d7139b1f052     0\n",
              "0e751a5b6db31895c283ddd9757477de     2\n",
              "0f74a58af435599ec94eff2b72d5e55e     2\n",
              "1d0ce31c6d7129a74e2921e8d161c752     2\n",
              "2cceeae738cae520544e9d9fda9ca30e     2\n",
              "2ea5285f04bc9a0b3008165779a382ec     2\n",
              "2f45c7132f623cd7caea6d7965d53a0f     2\n",
              "3b569cd1c63b83446420dd798a8622b7     2\n",
              "3f07e530430d1d450bfeaf0a595109b1     0\n",
              "4aa9b2104ac7c7602c4258a0f7ce2b44     2\n",
              "17af47cdfd7c327ebfc2ab21221fee03     0\n",
              "1f6bcbaaefaec970de211d47c7c57854     0\n",
              "573054f5a9b74edc86ede736876bcb57     0\n",
              "60c4a8055b75c25d60932d1e6c34e05a     0\n",
              "6a3943016197db960f00e27f1b154093     0\n",
              "6db56b93657419ea946b2db489d88908     0\n",
              "91e8fe3c2623eaea8ec8027564a857d5     0\n",
              "bc28e599e69d23edcb60b0dd5b428f6f     0\n",
              "d32c82e4632a1e6656b05678ae5560fd     0\n",
              "ec34196b53dd111997b88eaa2920b7f4     0"
            ]
          },
          "metadata": {
            "tags": []
          },
          "execution_count": 42
        }
      ]
    }
  ]
}